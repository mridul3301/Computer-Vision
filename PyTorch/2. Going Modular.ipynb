{
 "cells": [
  {
   "cell_type": "markdown",
   "id": "a8d41a6e",
   "metadata": {
    "papermill": {
     "duration": 0.013528,
     "end_time": "2023-05-20T14:55:26.639691",
     "exception": false,
     "start_time": "2023-05-20T14:55:26.626163",
     "status": "completed"
    },
    "tags": []
   },
   "source": [
    "### 1. Get Data"
   ]
  },
  {
   "cell_type": "code",
   "execution_count": 1,
   "id": "c60b5551",
   "metadata": {
    "execution": {
     "iopub.execute_input": "2023-05-20T14:55:26.668316Z",
     "iopub.status.busy": "2023-05-20T14:55:26.667206Z",
     "iopub.status.idle": "2023-05-20T14:55:26.678712Z",
     "shell.execute_reply": "2023-05-20T14:55:26.677568Z"
    },
    "papermill": {
     "duration": 0.028359,
     "end_time": "2023-05-20T14:55:26.681272",
     "exception": false,
     "start_time": "2023-05-20T14:55:26.652913",
     "status": "completed"
    },
    "tags": []
   },
   "outputs": [],
   "source": [
    "import os\n",
    "import zipfile\n",
    "\n",
    "from pathlib import Path\n",
    "\n",
    "import requests"
   ]
  },
  {
   "cell_type": "code",
   "execution_count": 2,
   "id": "a8ead836",
   "metadata": {
    "execution": {
     "iopub.execute_input": "2023-05-20T14:55:26.709479Z",
     "iopub.status.busy": "2023-05-20T14:55:26.709040Z",
     "iopub.status.idle": "2023-05-20T14:55:26.714113Z",
     "shell.execute_reply": "2023-05-20T14:55:26.713087Z"
    },
    "papermill": {
     "duration": 0.021826,
     "end_time": "2023-05-20T14:55:26.716394",
     "exception": false,
     "start_time": "2023-05-20T14:55:26.694568",
     "status": "completed"
    },
    "tags": []
   },
   "outputs": [],
   "source": [
    "# Setup path to data folder\n",
    "data_path = Path(\"data/\")\n",
    "image_path = data_path / \"pizza_steak_sushi\""
   ]
  },
  {
   "cell_type": "code",
   "execution_count": 3,
   "id": "e6b159c2",
   "metadata": {
    "execution": {
     "iopub.execute_input": "2023-05-20T14:55:26.744804Z",
     "iopub.status.busy": "2023-05-20T14:55:26.744439Z",
     "iopub.status.idle": "2023-05-20T14:55:26.750346Z",
     "shell.execute_reply": "2023-05-20T14:55:26.749606Z"
    },
    "papermill": {
     "duration": 0.022858,
     "end_time": "2023-05-20T14:55:26.752720",
     "exception": false,
     "start_time": "2023-05-20T14:55:26.729862",
     "status": "completed"
    },
    "tags": []
   },
   "outputs": [
    {
     "name": "stdout",
     "output_type": "stream",
     "text": [
      "Did not find data/pizza_steak_sushi directory, creating one...\n"
     ]
    }
   ],
   "source": [
    "# If the image folder doesn't exist, download it and prepare it... \n",
    "if image_path.is_dir():\n",
    "    print(f\"{image_path} directory exists.\")\n",
    "else:\n",
    "    print(f\"Did not find {image_path} directory, creating one...\")\n",
    "    image_path.mkdir(parents=True, exist_ok=True)"
   ]
  },
  {
   "cell_type": "code",
   "execution_count": 4,
   "id": "fb077a36",
   "metadata": {
    "execution": {
     "iopub.execute_input": "2023-05-20T14:55:26.780831Z",
     "iopub.status.busy": "2023-05-20T14:55:26.779891Z",
     "iopub.status.idle": "2023-05-20T14:55:27.235888Z",
     "shell.execute_reply": "2023-05-20T14:55:27.234864Z"
    },
    "papermill": {
     "duration": 0.47283,
     "end_time": "2023-05-20T14:55:27.238281",
     "exception": false,
     "start_time": "2023-05-20T14:55:26.765451",
     "status": "completed"
    },
    "tags": []
   },
   "outputs": [
    {
     "name": "stdout",
     "output_type": "stream",
     "text": [
      "Downloading pizza, steak, sushi data...\n"
     ]
    }
   ],
   "source": [
    "# Download pizza, steak, sushi data\n",
    "with open(data_path / \"pizza_steak_sushi.zip\", \"wb\") as f:\n",
    "    request = requests.get(\"https://github.com/mrdbourke/pytorch-deep-learning/raw/main/data/pizza_steak_sushi.zip\")\n",
    "    print(\"Downloading pizza, steak, sushi data...\")\n",
    "    f.write(request.content)"
   ]
  },
  {
   "cell_type": "code",
   "execution_count": 5,
   "id": "96feafbd",
   "metadata": {
    "execution": {
     "iopub.execute_input": "2023-05-20T14:55:27.268172Z",
     "iopub.status.busy": "2023-05-20T14:55:27.267282Z",
     "iopub.status.idle": "2023-05-20T14:55:27.386307Z",
     "shell.execute_reply": "2023-05-20T14:55:27.385046Z"
    },
    "papermill": {
     "duration": 0.13653,
     "end_time": "2023-05-20T14:55:27.388775",
     "exception": false,
     "start_time": "2023-05-20T14:55:27.252245",
     "status": "completed"
    },
    "tags": []
   },
   "outputs": [
    {
     "name": "stdout",
     "output_type": "stream",
     "text": [
      "Unzipping pizza, steak, sushi data...\n"
     ]
    }
   ],
   "source": [
    "# Unzip pizza, steak, sushi data\n",
    "with zipfile.ZipFile(data_path / \"pizza_steak_sushi.zip\", \"r\") as zip_ref:\n",
    "    print(\"Unzipping pizza, steak, sushi data...\") \n",
    "    zip_ref.extractall(image_path)"
   ]
  },
  {
   "cell_type": "code",
   "execution_count": 6,
   "id": "cb258bb0",
   "metadata": {
    "execution": {
     "iopub.execute_input": "2023-05-20T14:55:27.419706Z",
     "iopub.status.busy": "2023-05-20T14:55:27.419056Z",
     "iopub.status.idle": "2023-05-20T14:55:27.426853Z",
     "shell.execute_reply": "2023-05-20T14:55:27.426031Z"
    },
    "papermill": {
     "duration": 0.02651,
     "end_time": "2023-05-20T14:55:27.429535",
     "exception": false,
     "start_time": "2023-05-20T14:55:27.403025",
     "status": "completed"
    },
    "tags": []
   },
   "outputs": [],
   "source": [
    "# Remove zip file\n",
    "os.remove(data_path / \"pizza_steak_sushi.zip\")"
   ]
  },
  {
   "cell_type": "code",
   "execution_count": 7,
   "id": "194a793b",
   "metadata": {
    "execution": {
     "iopub.execute_input": "2023-05-20T14:55:27.459201Z",
     "iopub.status.busy": "2023-05-20T14:55:27.458540Z",
     "iopub.status.idle": "2023-05-20T14:55:27.466578Z",
     "shell.execute_reply": "2023-05-20T14:55:27.465489Z"
    },
    "papermill": {
     "duration": 0.025385,
     "end_time": "2023-05-20T14:55:27.468732",
     "exception": false,
     "start_time": "2023-05-20T14:55:27.443347",
     "status": "completed"
    },
    "tags": []
   },
   "outputs": [
    {
     "data": {
      "text/plain": [
       "(PosixPath('data/pizza_steak_sushi/train'),\n",
       " PosixPath('data/pizza_steak_sushi/test'))"
      ]
     },
     "execution_count": 7,
     "metadata": {},
     "output_type": "execute_result"
    }
   ],
   "source": [
    "# Setup train and testing paths\n",
    "train_dir = image_path / \"train\"\n",
    "test_dir = image_path / \"test\"\n",
    "\n",
    "train_dir, test_dir"
   ]
  },
  {
   "cell_type": "markdown",
   "id": "a60a4828",
   "metadata": {
    "papermill": {
     "duration": 0.013987,
     "end_time": "2023-05-20T14:55:27.496846",
     "exception": false,
     "start_time": "2023-05-20T14:55:27.482859",
     "status": "completed"
    },
    "tags": []
   },
   "source": [
    "### 2. Create Datasets and DataLoader"
   ]
  },
  {
   "cell_type": "code",
   "execution_count": 8,
   "id": "2ba0aead",
   "metadata": {
    "execution": {
     "iopub.execute_input": "2023-05-20T14:55:27.527985Z",
     "iopub.status.busy": "2023-05-20T14:55:27.527323Z",
     "iopub.status.idle": "2023-05-20T14:55:31.609058Z",
     "shell.execute_reply": "2023-05-20T14:55:31.607860Z"
    },
    "papermill": {
     "duration": 4.100031,
     "end_time": "2023-05-20T14:55:31.611563",
     "exception": false,
     "start_time": "2023-05-20T14:55:27.511532",
     "status": "completed"
    },
    "tags": []
   },
   "outputs": [
    {
     "name": "stdout",
     "output_type": "stream",
     "text": [
      "Train data:\n",
      "Dataset ImageFolder\n",
      "    Number of datapoints: 225\n",
      "    Root location: data/pizza_steak_sushi/train\n",
      "    StandardTransform\n",
      "Transform: Compose(\n",
      "               Resize(size=(64, 64), interpolation=bilinear, max_size=None, antialias=warn)\n",
      "               ToTensor()\n",
      "           )\n",
      "Test data:\n",
      "Dataset ImageFolder\n",
      "    Number of datapoints: 75\n",
      "    Root location: data/pizza_steak_sushi/test\n",
      "    StandardTransform\n",
      "Transform: Compose(\n",
      "               Resize(size=(64, 64), interpolation=bilinear, max_size=None, antialias=warn)\n",
      "               ToTensor()\n",
      "           )\n"
     ]
    }
   ],
   "source": [
    "from torchvision import datasets, transforms\n",
    "\n",
    "# Create simple transform\n",
    "data_transform = transforms.Compose([ \n",
    "    transforms.Resize((64, 64)),\n",
    "    transforms.ToTensor(),\n",
    "])\n",
    "\n",
    "# Use ImageFolder to create dataset(s)\n",
    "train_data = datasets.ImageFolder(root=train_dir, # target folder of images\n",
    "                                  transform=data_transform, # transforms to perform on data (images)\n",
    "                                  target_transform=None) # transforms to perform on labels (if necessary)\n",
    "\n",
    "test_data = datasets.ImageFolder(root=test_dir, \n",
    "                                 transform=data_transform)\n",
    "\n",
    "print(f\"Train data:\\n{train_data}\\nTest data:\\n{test_data}\")"
   ]
  },
  {
   "cell_type": "code",
   "execution_count": 9,
   "id": "ba6b5051",
   "metadata": {
    "execution": {
     "iopub.execute_input": "2023-05-20T14:55:31.642702Z",
     "iopub.status.busy": "2023-05-20T14:55:31.641922Z",
     "iopub.status.idle": "2023-05-20T14:55:31.649872Z",
     "shell.execute_reply": "2023-05-20T14:55:31.648820Z"
    },
    "papermill": {
     "duration": 0.02642,
     "end_time": "2023-05-20T14:55:31.652126",
     "exception": false,
     "start_time": "2023-05-20T14:55:31.625706",
     "status": "completed"
    },
    "tags": []
   },
   "outputs": [
    {
     "data": {
      "text/plain": [
       "['pizza', 'steak', 'sushi']"
      ]
     },
     "execution_count": 9,
     "metadata": {},
     "output_type": "execute_result"
    }
   ],
   "source": [
    "# Get class names as a list\n",
    "class_names = train_data.classes\n",
    "class_names"
   ]
  },
  {
   "cell_type": "code",
   "execution_count": 10,
   "id": "f2991812",
   "metadata": {
    "execution": {
     "iopub.execute_input": "2023-05-20T14:55:31.682552Z",
     "iopub.status.busy": "2023-05-20T14:55:31.682142Z",
     "iopub.status.idle": "2023-05-20T14:55:31.689020Z",
     "shell.execute_reply": "2023-05-20T14:55:31.688227Z"
    },
    "papermill": {
     "duration": 0.024696,
     "end_time": "2023-05-20T14:55:31.691059",
     "exception": false,
     "start_time": "2023-05-20T14:55:31.666363",
     "status": "completed"
    },
    "tags": []
   },
   "outputs": [
    {
     "data": {
      "text/plain": [
       "{'pizza': 0, 'steak': 1, 'sushi': 2}"
      ]
     },
     "execution_count": 10,
     "metadata": {},
     "output_type": "execute_result"
    }
   ],
   "source": [
    "# Can also get class names as a dict\n",
    "class_dict = train_data.class_to_idx\n",
    "class_dict"
   ]
  },
  {
   "cell_type": "code",
   "execution_count": 11,
   "id": "6bba3d22",
   "metadata": {
    "execution": {
     "iopub.execute_input": "2023-05-20T14:55:31.721393Z",
     "iopub.status.busy": "2023-05-20T14:55:31.720900Z",
     "iopub.status.idle": "2023-05-20T14:55:31.728091Z",
     "shell.execute_reply": "2023-05-20T14:55:31.727046Z"
    },
    "papermill": {
     "duration": 0.024992,
     "end_time": "2023-05-20T14:55:31.730361",
     "exception": false,
     "start_time": "2023-05-20T14:55:31.705369",
     "status": "completed"
    },
    "tags": []
   },
   "outputs": [
    {
     "data": {
      "text/plain": [
       "(225, 75)"
      ]
     },
     "execution_count": 11,
     "metadata": {},
     "output_type": "execute_result"
    }
   ],
   "source": [
    "# Check the lengths\n",
    "len(train_data), len(test_data)"
   ]
  },
  {
   "cell_type": "code",
   "execution_count": 12,
   "id": "877de941",
   "metadata": {
    "execution": {
     "iopub.execute_input": "2023-05-20T14:55:31.760875Z",
     "iopub.status.busy": "2023-05-20T14:55:31.760443Z",
     "iopub.status.idle": "2023-05-20T14:55:31.769149Z",
     "shell.execute_reply": "2023-05-20T14:55:31.768324Z"
    },
    "papermill": {
     "duration": 0.026689,
     "end_time": "2023-05-20T14:55:31.771286",
     "exception": false,
     "start_time": "2023-05-20T14:55:31.744597",
     "status": "completed"
    },
    "tags": []
   },
   "outputs": [
    {
     "data": {
      "text/plain": [
       "(<torch.utils.data.dataloader.DataLoader at 0x7d59700b5360>,\n",
       " <torch.utils.data.dataloader.DataLoader at 0x7d59700b4c10>)"
      ]
     },
     "execution_count": 12,
     "metadata": {},
     "output_type": "execute_result"
    }
   ],
   "source": [
    "# Turn train and test Datasets into DataLoaders\n",
    "from torch.utils.data import DataLoader\n",
    "train_dataloader = DataLoader(dataset=train_data, \n",
    "                              batch_size=1, # how many samples per batch?\n",
    "                              num_workers=1, # how many subprocesses to use for data loading? (higher = more)\n",
    "                              shuffle=True) # shuffle the data?\n",
    "\n",
    "test_dataloader = DataLoader(dataset=test_data, \n",
    "                             batch_size=1, \n",
    "                             num_workers=1, \n",
    "                             shuffle=False) # don't usually need to shuffle testing data\n",
    "\n",
    "train_dataloader, test_dataloader"
   ]
  },
  {
   "cell_type": "code",
   "execution_count": 13,
   "id": "c1baa0b6",
   "metadata": {
    "execution": {
     "iopub.execute_input": "2023-05-20T14:55:31.802132Z",
     "iopub.status.busy": "2023-05-20T14:55:31.801749Z",
     "iopub.status.idle": "2023-05-20T14:55:31.981207Z",
     "shell.execute_reply": "2023-05-20T14:55:31.979378Z"
    },
    "papermill": {
     "duration": 0.1981,
     "end_time": "2023-05-20T14:55:31.983894",
     "exception": false,
     "start_time": "2023-05-20T14:55:31.785794",
     "status": "completed"
    },
    "tags": []
   },
   "outputs": [
    {
     "name": "stdout",
     "output_type": "stream",
     "text": [
      "Image shape: torch.Size([1, 3, 64, 64]) -> [batch_size, color_channels, height, width]\n",
      "Label shape: torch.Size([1])\n"
     ]
    }
   ],
   "source": [
    "# Check out single image size/shape\n",
    "img, label = next(iter(train_dataloader))\n",
    "\n",
    "# Batch size will now be 1, try changing the batch_size parameter above and see what happens\n",
    "print(f\"Image shape: {img.shape} -> [batch_size, color_channels, height, width]\")\n",
    "print(f\"Label shape: {label.shape}\")"
   ]
  },
  {
   "cell_type": "markdown",
   "id": "b5159700",
   "metadata": {
    "papermill": {
     "duration": 0.014556,
     "end_time": "2023-05-20T14:55:32.013492",
     "exception": false,
     "start_time": "2023-05-20T14:55:31.998936",
     "status": "completed"
    },
    "tags": []
   },
   "source": [
    "### 2_1. Making script for Datasets and DataLoaders"
   ]
  },
  {
   "cell_type": "code",
   "execution_count": 14,
   "id": "941939de",
   "metadata": {
    "execution": {
     "iopub.execute_input": "2023-05-20T14:55:32.045610Z",
     "iopub.status.busy": "2023-05-20T14:55:32.045165Z",
     "iopub.status.idle": "2023-05-20T14:55:33.108944Z",
     "shell.execute_reply": "2023-05-20T14:55:33.107606Z"
    },
    "papermill": {
     "duration": 1.083196,
     "end_time": "2023-05-20T14:55:33.111547",
     "exception": false,
     "start_time": "2023-05-20T14:55:32.028351",
     "status": "completed"
    },
    "tags": []
   },
   "outputs": [],
   "source": [
    "mkdir scripts"
   ]
  },
  {
   "cell_type": "code",
   "execution_count": 15,
   "id": "7cd7cfca",
   "metadata": {
    "execution": {
     "iopub.execute_input": "2023-05-20T14:55:33.143266Z",
     "iopub.status.busy": "2023-05-20T14:55:33.142812Z",
     "iopub.status.idle": "2023-05-20T14:55:33.153160Z",
     "shell.execute_reply": "2023-05-20T14:55:33.152037Z"
    },
    "papermill": {
     "duration": 0.029029,
     "end_time": "2023-05-20T14:55:33.155432",
     "exception": false,
     "start_time": "2023-05-20T14:55:33.126403",
     "status": "completed"
    },
    "tags": []
   },
   "outputs": [
    {
     "name": "stdout",
     "output_type": "stream",
     "text": [
      "Writing scripts/data_setup.py\n"
     ]
    }
   ],
   "source": [
    "%%writefile scripts/data_setup.py\n",
    "\"\"\"\n",
    "Contains functionality for creating PyTorch DataLoaders for \n",
    "image classification data.\n",
    "\"\"\"\n",
    "import os\n",
    "\n",
    "from torch.utils.data import DataLoader\n",
    "from torchvision import datasets, transforms\n",
    "\n",
    "NUM_WORKERS = os.cpu_count()\n",
    "\n",
    "def create_dataloaders(\n",
    "train_dir:str,\n",
    "test_dir:str,\n",
    "transform:transforms.Compose,\n",
    "batch_size:int,\n",
    "num_workers:int = NUM_WORKERS):\n",
    "    \n",
    "    \"\"\"\n",
    "    Creates training and testing DataLoaders.\n",
    "    Takes in a training directory and testing directory path and turns\n",
    "    them into PyTorch Datasets and then into PyTorch DataLoaders.\n",
    "    \n",
    "    Args:\n",
    "        train_dir: Path to training directory.\n",
    "        test_dir: Path to testing directory.\n",
    "        transform: torchvision transforms to perform on training and testing data.\n",
    "        batch_size: Number of samples per batch in each of the DataLoaders.\n",
    "        num_workers: An integer for number of workers per DataLoader.\n",
    "\n",
    "    Returns:\n",
    "        A tuple of (train_dataloader, test_dataloader, class_names).\n",
    "        Where class_names is a list of the target classes.\n",
    "        Example usage:\n",
    "          train_dataloader, test_dataloader, class_names = \\\n",
    "            = create_dataloaders(train_dir=path/to/train_dir,\n",
    "                                 test_dir=path/to/test_dir,\n",
    "                                 transform=some_transform,\n",
    "                                 batch_size=32,\n",
    "                                 num_workers=4)\n",
    "    \"\"\"\n",
    "    # Use ImageFolder to create dataset(s)\n",
    "    train_data = datasets.ImageFolder(root=train_dir, # target folder of images\n",
    "                                      transform=transform, # transforms to perform on data (images)\n",
    "                                      target_transform=None) # transforms to perform on labels (if necessary)\n",
    "\n",
    "    test_data = datasets.ImageFolder(root=test_dir, \n",
    "                                     transform=transform)\n",
    "    \n",
    "    # Get class names\n",
    "    class_names = train_data.classes\n",
    "    \n",
    "    # Turn images into data loaders\n",
    "    train_dataloader = DataLoader(\n",
    "          train_data,\n",
    "          batch_size=batch_size,\n",
    "          shuffle=True,\n",
    "          num_workers=num_workers,\n",
    "          pin_memory=True,\n",
    "      )\n",
    "    test_dataloader = DataLoader(\n",
    "          test_data,\n",
    "          batch_size=batch_size,\n",
    "          shuffle=False,\n",
    "          num_workers=num_workers,\n",
    "          pin_memory=True,\n",
    "      )\n",
    "    \n",
    "    return train_dataloader, test_dataloader, class_names\n",
    "\n",
    "    "
   ]
  },
  {
   "cell_type": "markdown",
   "id": "7ce28832",
   "metadata": {
    "papermill": {
     "duration": 0.01437,
     "end_time": "2023-05-20T14:55:33.184718",
     "exception": false,
     "start_time": "2023-05-20T14:55:33.170348",
     "status": "completed"
    },
    "tags": []
   },
   "source": [
    "### 3. Creating TinyVGG Model"
   ]
  },
  {
   "cell_type": "code",
   "execution_count": 16,
   "id": "9985e0bc",
   "metadata": {
    "execution": {
     "iopub.execute_input": "2023-05-20T14:55:33.216306Z",
     "iopub.status.busy": "2023-05-20T14:55:33.215884Z",
     "iopub.status.idle": "2023-05-20T14:55:33.228843Z",
     "shell.execute_reply": "2023-05-20T14:55:33.227625Z"
    },
    "papermill": {
     "duration": 0.031491,
     "end_time": "2023-05-20T14:55:33.231104",
     "exception": false,
     "start_time": "2023-05-20T14:55:33.199613",
     "status": "completed"
    },
    "tags": []
   },
   "outputs": [],
   "source": [
    "import torch\n",
    "\n",
    "from torch import nn\n",
    "\n",
    "class TinyVGG(nn.Module):\n",
    "  \"\"\"Creates the TinyVGG architecture.\n",
    "\n",
    "  Replicates the TinyVGG architecture from the CNN explainer website in PyTorch.\n",
    "  See the original architecture here: https://poloclub.github.io/cnn-explainer/\n",
    "  \n",
    "  Args:\n",
    "    input_shape: An integer indicating number of input channels.\n",
    "    hidden_units: An integer indicating number of hidden units between layers.\n",
    "    output_shape: An integer indicating number of output units.\n",
    "  \"\"\"\n",
    "  def __init__(self, input_shape: int, hidden_units: int, output_shape: int) -> None:\n",
    "      super().__init__()\n",
    "      self.conv_block_1 = nn.Sequential(\n",
    "          nn.Conv2d(in_channels=input_shape, \n",
    "                    out_channels=hidden_units, \n",
    "                    kernel_size=3, # how big is the square that's going over the image?\n",
    "                    stride=1, # default\n",
    "                    padding=0), # options = \"valid\" (no padding) or \"same\" (output has same shape as input) or int for specific number \n",
    "          nn.ReLU(),\n",
    "          nn.Conv2d(in_channels=hidden_units, \n",
    "                    out_channels=hidden_units,\n",
    "                    kernel_size=3,\n",
    "                    stride=1,\n",
    "                    padding=0),\n",
    "          nn.ReLU(),\n",
    "          nn.MaxPool2d(kernel_size=2,\n",
    "                        stride=2) # default stride value is same as kernel_size\n",
    "      )\n",
    "      self.conv_block_2 = nn.Sequential(\n",
    "          nn.Conv2d(hidden_units, hidden_units, kernel_size=3, padding=0),\n",
    "          nn.ReLU(),\n",
    "          nn.Conv2d(hidden_units, hidden_units, kernel_size=3, padding=0),\n",
    "          nn.ReLU(),\n",
    "          nn.MaxPool2d(2)\n",
    "      )\n",
    "      self.classifier = nn.Sequential(\n",
    "          nn.Flatten(),\n",
    "          # Where did this in_features shape come from? \n",
    "          # It's because each layer of our network compresses and changes the shape of our inputs data.\n",
    "          nn.Linear(in_features=hidden_units*13*13,\n",
    "                    out_features=output_shape)\n",
    "      )\n",
    "    \n",
    "  def forward(self, x: torch.Tensor):\n",
    "      x = self.conv_block_1(x)\n",
    "      x = self.conv_block_2(x)\n",
    "      x = self.classifier(x)\n",
    "      return x\n",
    "      # return self.classifier(self.block_2(self.block_1(x))) # <- leverage the benefits of operator fusion"
   ]
  },
  {
   "cell_type": "code",
   "execution_count": 17,
   "id": "d8bf2b6f",
   "metadata": {
    "execution": {
     "iopub.execute_input": "2023-05-20T14:55:33.265200Z",
     "iopub.status.busy": "2023-05-20T14:55:33.264133Z",
     "iopub.status.idle": "2023-05-20T14:55:33.283224Z",
     "shell.execute_reply": "2023-05-20T14:55:33.282076Z"
    },
    "papermill": {
     "duration": 0.040055,
     "end_time": "2023-05-20T14:55:33.285778",
     "exception": false,
     "start_time": "2023-05-20T14:55:33.245723",
     "status": "completed"
    },
    "tags": []
   },
   "outputs": [
    {
     "data": {
      "text/plain": [
       "TinyVGG(\n",
       "  (conv_block_1): Sequential(\n",
       "    (0): Conv2d(3, 10, kernel_size=(3, 3), stride=(1, 1))\n",
       "    (1): ReLU()\n",
       "    (2): Conv2d(10, 10, kernel_size=(3, 3), stride=(1, 1))\n",
       "    (3): ReLU()\n",
       "    (4): MaxPool2d(kernel_size=2, stride=2, padding=0, dilation=1, ceil_mode=False)\n",
       "  )\n",
       "  (conv_block_2): Sequential(\n",
       "    (0): Conv2d(10, 10, kernel_size=(3, 3), stride=(1, 1))\n",
       "    (1): ReLU()\n",
       "    (2): Conv2d(10, 10, kernel_size=(3, 3), stride=(1, 1))\n",
       "    (3): ReLU()\n",
       "    (4): MaxPool2d(kernel_size=2, stride=2, padding=0, dilation=1, ceil_mode=False)\n",
       "  )\n",
       "  (classifier): Sequential(\n",
       "    (0): Flatten(start_dim=1, end_dim=-1)\n",
       "    (1): Linear(in_features=1690, out_features=3, bias=True)\n",
       "  )\n",
       ")"
      ]
     },
     "execution_count": 17,
     "metadata": {},
     "output_type": "execute_result"
    }
   ],
   "source": [
    "import torch\n",
    "\n",
    "device = \"cuda\" if torch.cuda.is_available() else \"cpu\"\n",
    "\n",
    "# Instantiate an instance of the model\n",
    "torch.manual_seed(42)\n",
    "model_0 = TinyVGG(input_shape=3, # number of color channels (3 for RGB) \n",
    "                  hidden_units=10, \n",
    "                  output_shape=len(train_data.classes)).to(device)\n",
    "model_0"
   ]
  },
  {
   "cell_type": "code",
   "execution_count": 18,
   "id": "1292c17b",
   "metadata": {
    "execution": {
     "iopub.execute_input": "2023-05-20T14:55:33.318175Z",
     "iopub.status.busy": "2023-05-20T14:55:33.317506Z",
     "iopub.status.idle": "2023-05-20T14:55:33.489263Z",
     "shell.execute_reply": "2023-05-20T14:55:33.487808Z"
    },
    "papermill": {
     "duration": 0.191276,
     "end_time": "2023-05-20T14:55:33.492047",
     "exception": false,
     "start_time": "2023-05-20T14:55:33.300771",
     "status": "completed"
    },
    "tags": []
   },
   "outputs": [
    {
     "name": "stdout",
     "output_type": "stream",
     "text": [
      "Single image shape: torch.Size([1, 3, 64, 64])\n",
      "\n",
      "Output logits:\n",
      "tensor([[ 0.0208, -0.0020,  0.0095]])\n",
      "\n",
      "Output prediction probabilities:\n",
      "tensor([[0.3371, 0.3295, 0.3333]])\n",
      "\n",
      "Output prediction label:\n",
      "tensor([0])\n",
      "\n",
      "Actual label:\n",
      "0\n"
     ]
    }
   ],
   "source": [
    "# 1. Get a batch of images and labels from the DataLoader\n",
    "img_batch, label_batch = next(iter(train_dataloader))\n",
    "\n",
    "# 2. Get a single image from the batch and unsqueeze the image so its shape fits the model\n",
    "img_single, label_single = img_batch[0].unsqueeze(dim=0), label_batch[0]\n",
    "print(f\"Single image shape: {img_single.shape}\\n\")\n",
    "\n",
    "# 3. Perform a forward pass on a single image\n",
    "model_0.eval()\n",
    "with torch.inference_mode():\n",
    "    pred = model_0(img_single.to(device))\n",
    "    \n",
    "# 4. Print out what's happening and convert model logits -> pred probs -> pred label\n",
    "print(f\"Output logits:\\n{pred}\\n\")\n",
    "print(f\"Output prediction probabilities:\\n{torch.softmax(pred, dim=1)}\\n\")\n",
    "print(f\"Output prediction label:\\n{torch.argmax(torch.softmax(pred, dim=1), dim=1)}\\n\")\n",
    "print(f\"Actual label:\\n{label_single}\")"
   ]
  },
  {
   "cell_type": "markdown",
   "id": "c42b5bfb",
   "metadata": {
    "papermill": {
     "duration": 0.015323,
     "end_time": "2023-05-20T14:55:33.522885",
     "exception": false,
     "start_time": "2023-05-20T14:55:33.507562",
     "status": "completed"
    },
    "tags": []
   },
   "source": [
    "### 3_1. Making scripts for TinyVGG model"
   ]
  },
  {
   "cell_type": "code",
   "execution_count": 19,
   "id": "f8a3196f",
   "metadata": {
    "execution": {
     "iopub.execute_input": "2023-05-20T14:55:33.555869Z",
     "iopub.status.busy": "2023-05-20T14:55:33.554734Z",
     "iopub.status.idle": "2023-05-20T14:55:33.563870Z",
     "shell.execute_reply": "2023-05-20T14:55:33.562713Z"
    },
    "papermill": {
     "duration": 0.028252,
     "end_time": "2023-05-20T14:55:33.566328",
     "exception": false,
     "start_time": "2023-05-20T14:55:33.538076",
     "status": "completed"
    },
    "tags": []
   },
   "outputs": [
    {
     "name": "stdout",
     "output_type": "stream",
     "text": [
      "Writing scripts/model_builder.py\n"
     ]
    }
   ],
   "source": [
    "%%writefile scripts/model_builder.py\n",
    "\n",
    "\"\"\"\n",
    "Contains PyTorch model code to instantiate a TinyVGG model.\n",
    "\"\"\"\n",
    "import torch\n",
    "\n",
    "from torch import nn\n",
    "\n",
    "class TinyVGG(nn.Module):\n",
    "    \"\"\"Creates the TinyVGG architecture.\n",
    "\n",
    "    Replicates the TinyVGG architecture from the CNN explainer website in PyTorch.\n",
    "    See the original architecture here: https://poloclub.github.io/cnn-explainer/\n",
    "\n",
    "    Args:\n",
    "    input_shape: An integer indicating number of input channels.\n",
    "    hidden_units: An integer indicating number of hidden units between layers.\n",
    "    output_shape: An integer indicating number of output units.\n",
    "    \"\"\"\n",
    "    def __init__(self, input_shape: int, hidden_units: int, output_shape: int) -> None:\n",
    "        super().__init__()\n",
    "        self.conv_block_1 = nn.Sequential(\n",
    "            nn.Conv2d(in_channels=input_shape, \n",
    "                        out_channels=hidden_units, \n",
    "                        kernel_size=3, \n",
    "                        stride=1, \n",
    "                        padding=0),  \n",
    "              nn.ReLU(),\n",
    "              nn.Conv2d(in_channels=hidden_units, \n",
    "                        out_channels=hidden_units,\n",
    "                        kernel_size=3,\n",
    "                        stride=1,\n",
    "                        padding=0),\n",
    "              nn.ReLU(),\n",
    "              nn.MaxPool2d(kernel_size=2,\n",
    "                            stride=2)\n",
    "            )\n",
    "        self.conv_block_2 = nn.Sequential(\n",
    "          nn.Conv2d(hidden_units, hidden_units, kernel_size=3, padding=0),\n",
    "          nn.ReLU(),\n",
    "          nn.Conv2d(hidden_units, hidden_units, kernel_size=3, padding=0),\n",
    "          nn.ReLU(),\n",
    "          nn.MaxPool2d(2)\n",
    "            )\n",
    "        self.classifier = nn.Sequential(\n",
    "          nn.Flatten(),\n",
    "          # Where did this in_features shape come from? \n",
    "          # It's because each layer of our network compresses and changes the shape of our inputs data.\n",
    "          nn.Linear(in_features=hidden_units*13*13,\n",
    "                    out_features=output_shape)\n",
    "            )\n",
    "    \n",
    "    # Activation\n",
    "    def forward(self, x: torch.Tensor):\n",
    "        x = self.conv_block_1(x)\n",
    "        x = self.conv_block_2(x)\n",
    "        x = self.classifier(x)\n",
    "        return x\n",
    "    "
   ]
  },
  {
   "cell_type": "code",
   "execution_count": 20,
   "id": "789b2f7e",
   "metadata": {
    "execution": {
     "iopub.execute_input": "2023-05-20T14:55:33.599107Z",
     "iopub.status.busy": "2023-05-20T14:55:33.597990Z",
     "iopub.status.idle": "2023-05-20T14:55:33.612365Z",
     "shell.execute_reply": "2023-05-20T14:55:33.611364Z"
    },
    "papermill": {
     "duration": 0.033176,
     "end_time": "2023-05-20T14:55:33.614778",
     "exception": false,
     "start_time": "2023-05-20T14:55:33.581602",
     "status": "completed"
    },
    "tags": []
   },
   "outputs": [
    {
     "data": {
      "text/plain": [
       "TinyVGG(\n",
       "  (conv_block_1): Sequential(\n",
       "    (0): Conv2d(3, 10, kernel_size=(3, 3), stride=(1, 1))\n",
       "    (1): ReLU()\n",
       "    (2): Conv2d(10, 10, kernel_size=(3, 3), stride=(1, 1))\n",
       "    (3): ReLU()\n",
       "    (4): MaxPool2d(kernel_size=2, stride=2, padding=0, dilation=1, ceil_mode=False)\n",
       "  )\n",
       "  (conv_block_2): Sequential(\n",
       "    (0): Conv2d(10, 10, kernel_size=(3, 3), stride=(1, 1))\n",
       "    (1): ReLU()\n",
       "    (2): Conv2d(10, 10, kernel_size=(3, 3), stride=(1, 1))\n",
       "    (3): ReLU()\n",
       "    (4): MaxPool2d(kernel_size=2, stride=2, padding=0, dilation=1, ceil_mode=False)\n",
       "  )\n",
       "  (classifier): Sequential(\n",
       "    (0): Flatten(start_dim=1, end_dim=-1)\n",
       "    (1): Linear(in_features=1690, out_features=3, bias=True)\n",
       "  )\n",
       ")"
      ]
     },
     "execution_count": 20,
     "metadata": {},
     "output_type": "execute_result"
    }
   ],
   "source": [
    "import torch\n",
    "\n",
    "from scripts import model_builder\n",
    "\n",
    "device = \"cuda\" if torch.cuda.is_available() else \"cpu\"\n",
    "\n",
    "# Instantiate an instance of the model from the \"model_builder.py\" script\n",
    "torch.manual_seed(42)\n",
    "model_1 = model_builder.TinyVGG(input_shape=3, # number of color channels (3 for RGB) \n",
    "                                hidden_units=10, \n",
    "                                output_shape=len(class_names)).to(device)\n",
    "model_1"
   ]
  },
  {
   "cell_type": "code",
   "execution_count": 21,
   "id": "eeeb3cf1",
   "metadata": {
    "execution": {
     "iopub.execute_input": "2023-05-20T14:55:33.647834Z",
     "iopub.status.busy": "2023-05-20T14:55:33.646791Z",
     "iopub.status.idle": "2023-05-20T14:55:33.711622Z",
     "shell.execute_reply": "2023-05-20T14:55:33.709910Z"
    },
    "papermill": {
     "duration": 0.084105,
     "end_time": "2023-05-20T14:55:33.714445",
     "exception": false,
     "start_time": "2023-05-20T14:55:33.630340",
     "status": "completed"
    },
    "tags": []
   },
   "outputs": [
    {
     "name": "stdout",
     "output_type": "stream",
     "text": [
      "Single image shape: torch.Size([1, 3, 64, 64])\n",
      "\n",
      "Output logits:\n",
      "tensor([[ 0.0208, -0.0020,  0.0095]])\n",
      "\n",
      "Output prediction probabilities:\n",
      "tensor([[0.3371, 0.3295, 0.3333]])\n",
      "\n",
      "Output prediction label:\n",
      "tensor([0])\n",
      "\n",
      "Actual label:\n",
      "0\n"
     ]
    }
   ],
   "source": [
    "# 1. Get a batch of images and labels from the DataLoader\n",
    "img_batch, label_batch = next(iter(train_dataloader))\n",
    "\n",
    "# 2. Get a single image from the batch and unsqueeze the image so its shape fits the model\n",
    "img_single, label_single = img_batch[0].unsqueeze(dim=0), label_batch[0]\n",
    "print(f\"Single image shape: {img_single.shape}\\n\")\n",
    "\n",
    "# 3. Perform a forward pass on a single image\n",
    "model_1.eval()\n",
    "with torch.inference_mode():\n",
    "    pred = model_1(img_single.to(device))\n",
    "    \n",
    "# 4. Print out what's happening and convert model logits -> pred probs -> pred label\n",
    "print(f\"Output logits:\\n{pred}\\n\")\n",
    "print(f\"Output prediction probabilities:\\n{torch.softmax(pred, dim=1)}\\n\")\n",
    "print(f\"Output prediction label:\\n{torch.argmax(torch.softmax(pred, dim=1), dim=1)}\\n\")\n",
    "print(f\"Actual label:\\n{label_single}\")"
   ]
  },
  {
   "cell_type": "markdown",
   "id": "45190ba5",
   "metadata": {
    "papermill": {
     "duration": 0.014921,
     "end_time": "2023-05-20T14:55:33.745239",
     "exception": false,
     "start_time": "2023-05-20T14:55:33.730318",
     "status": "completed"
    },
    "tags": []
   },
   "source": [
    "### Training Models"
   ]
  },
  {
   "cell_type": "markdown",
   "id": "0965a6b5",
   "metadata": {
    "papermill": {
     "duration": 0.014992,
     "end_time": "2023-05-20T14:55:33.775692",
     "exception": false,
     "start_time": "2023-05-20T14:55:33.760700",
     "status": "completed"
    },
    "tags": []
   },
   "source": [
    "Create `train_step`"
   ]
  },
  {
   "cell_type": "code",
   "execution_count": 22,
   "id": "1872fd19",
   "metadata": {
    "execution": {
     "iopub.execute_input": "2023-05-20T14:55:33.810812Z",
     "iopub.status.busy": "2023-05-20T14:55:33.809992Z",
     "iopub.status.idle": "2023-05-20T14:55:33.821157Z",
     "shell.execute_reply": "2023-05-20T14:55:33.820303Z"
    },
    "papermill": {
     "duration": 0.03308,
     "end_time": "2023-05-20T14:55:33.823645",
     "exception": false,
     "start_time": "2023-05-20T14:55:33.790565",
     "status": "completed"
    },
    "tags": []
   },
   "outputs": [],
   "source": [
    "from typing import Tuple\n",
    "\n",
    "def train_step(model: torch.nn.Module, \n",
    "               dataloader: torch.utils.data.DataLoader, \n",
    "               loss_fn: torch.nn.Module, \n",
    "               optimizer: torch.optim.Optimizer,\n",
    "               device: torch.device) -> Tuple[float, float]:\n",
    "    \"\"\"Trains a PyTorch model for a single epoch.\n",
    "\n",
    "    Turns a target PyTorch model to training mode and then\n",
    "    runs through all of the required training steps (forward\n",
    "    pass, loss calculation, optimizer step).\n",
    "\n",
    "    Args:\n",
    "    model: A PyTorch model to be trained.\n",
    "    dataloader: A DataLoader instance for the model to be trained on.\n",
    "    loss_fn: A PyTorch loss function to minimize.\n",
    "    optimizer: A PyTorch optimizer to help minimize the loss function.\n",
    "    device: A target device to compute on (e.g. \"cuda\" or \"cpu\").\n",
    "\n",
    "    Returns:\n",
    "    A tuple of training loss and training accuracy metrics.\n",
    "    In the form (train_loss, train_accuracy). For example:\n",
    "\n",
    "    (0.1112, 0.8743)\n",
    "    \"\"\"\n",
    "    # Put model in train mode\n",
    "    model.train()\n",
    "\n",
    "    # Setup train loss and train accuracy values\n",
    "    train_loss, train_acc = 0, 0\n",
    "\n",
    "    # Loop through data loader data batches\n",
    "    for batch, (X, y) in enumerate(dataloader):\n",
    "        # Send data to target device\n",
    "        X, y = X.to(device), y.to(device)\n",
    "\n",
    "        # 1. Forward pass\n",
    "        y_pred = model(X)\n",
    "\n",
    "        # 2. Calculate  and accumulate loss\n",
    "        loss = loss_fn(y_pred, y)\n",
    "        train_loss += loss.item() \n",
    "\n",
    "        # 3. Optimizer zero grad\n",
    "        optimizer.zero_grad()\n",
    "\n",
    "        # 4. Loss backward\n",
    "        loss.backward()\n",
    "\n",
    "        # 5. Optimizer step\n",
    "        optimizer.step()\n",
    "\n",
    "        # Calculate and accumulate accuracy metric across all batches\n",
    "        y_pred_class = torch.argmax(torch.softmax(y_pred, dim=1), dim=1)\n",
    "        train_acc += (y_pred_class == y).sum().item()/len(y_pred)\n",
    "\n",
    "    # Adjust metrics to get average loss and accuracy per batch \n",
    "    train_loss = train_loss / len(dataloader)\n",
    "    train_acc = train_acc / len(dataloader)\n",
    "    return train_loss, train_acc"
   ]
  },
  {
   "cell_type": "markdown",
   "id": "9ee034c5",
   "metadata": {
    "papermill": {
     "duration": 0.015022,
     "end_time": "2023-05-20T14:55:33.853780",
     "exception": false,
     "start_time": "2023-05-20T14:55:33.838758",
     "status": "completed"
    },
    "tags": []
   },
   "source": [
    "Create `test_step`"
   ]
  },
  {
   "cell_type": "code",
   "execution_count": 23,
   "id": "2cac0db2",
   "metadata": {
    "execution": {
     "iopub.execute_input": "2023-05-20T14:55:33.886569Z",
     "iopub.status.busy": "2023-05-20T14:55:33.885577Z",
     "iopub.status.idle": "2023-05-20T14:55:33.896258Z",
     "shell.execute_reply": "2023-05-20T14:55:33.895156Z"
    },
    "papermill": {
     "duration": 0.029397,
     "end_time": "2023-05-20T14:55:33.898610",
     "exception": false,
     "start_time": "2023-05-20T14:55:33.869213",
     "status": "completed"
    },
    "tags": []
   },
   "outputs": [],
   "source": [
    "def test_step(model: torch.nn.Module, \n",
    "              dataloader: torch.utils.data.DataLoader, \n",
    "              loss_fn: torch.nn.Module,\n",
    "              device: torch.device) -> Tuple[float, float]:\n",
    "    \"\"\"Tests a PyTorch model for a single epoch.\n",
    "\n",
    "    Turns a target PyTorch model to \"eval\" mode and then performs\n",
    "    a forward pass on a testing dataset.\n",
    "\n",
    "    Args:\n",
    "    model: A PyTorch model to be tested.\n",
    "    dataloader: A DataLoader instance for the model to be tested on.\n",
    "    loss_fn: A PyTorch loss function to calculate loss on the test data.\n",
    "    device: A target device to compute on (e.g. \"cuda\" or \"cpu\").\n",
    "\n",
    "    Returns:\n",
    "    A tuple of testing loss and testing accuracy metrics.\n",
    "    In the form (test_loss, test_accuracy). For example:\n",
    "\n",
    "    (0.0223, 0.8985)\n",
    "    \"\"\"\n",
    "    # Put model in eval mode\n",
    "    model.eval() \n",
    "\n",
    "    # Setup test loss and test accuracy values\n",
    "    test_loss, test_acc = 0, 0\n",
    "\n",
    "    # Turn on inference context manager\n",
    "    with torch.inference_mode():\n",
    "        # Loop through DataLoader batches\n",
    "        for batch, (X, y) in enumerate(dataloader):\n",
    "            # Send data to target device\n",
    "            X, y = X.to(device), y.to(device)\n",
    "\n",
    "            # 1. Forward pass\n",
    "            test_pred_logits = model(X)\n",
    "\n",
    "            # 2. Calculate and accumulate loss\n",
    "            loss = loss_fn(test_pred_logits, y)\n",
    "            test_loss += loss.item()\n",
    "\n",
    "            # Calculate and accumulate accuracy\n",
    "            test_pred_labels = test_pred_logits.argmax(dim=1)\n",
    "            test_acc += ((test_pred_labels == y).sum().item()/len(test_pred_labels))\n",
    "\n",
    "    # Adjust metrics to get average loss and accuracy per batch \n",
    "    test_loss = test_loss / len(dataloader)\n",
    "    test_acc = test_acc / len(dataloader)\n",
    "    return test_loss, test_acc"
   ]
  },
  {
   "cell_type": "markdown",
   "id": "a49e5291",
   "metadata": {
    "papermill": {
     "duration": 0.014574,
     "end_time": "2023-05-20T14:55:33.928489",
     "exception": false,
     "start_time": "2023-05-20T14:55:33.913915",
     "status": "completed"
    },
    "tags": []
   },
   "source": [
    "Combine `train_step()` and `test_step()` to create `train()`"
   ]
  },
  {
   "cell_type": "code",
   "execution_count": 24,
   "id": "9a9154cd",
   "metadata": {
    "execution": {
     "iopub.execute_input": "2023-05-20T14:55:33.961233Z",
     "iopub.status.busy": "2023-05-20T14:55:33.960797Z",
     "iopub.status.idle": "2023-05-20T14:55:34.074385Z",
     "shell.execute_reply": "2023-05-20T14:55:34.073279Z"
    },
    "papermill": {
     "duration": 0.133593,
     "end_time": "2023-05-20T14:55:34.077072",
     "exception": false,
     "start_time": "2023-05-20T14:55:33.943479",
     "status": "completed"
    },
    "tags": []
   },
   "outputs": [],
   "source": [
    "from typing import Dict, List\n",
    "\n",
    "from tqdm.auto import tqdm\n",
    "\n",
    "def train(model: torch.nn.Module, \n",
    "          train_dataloader: torch.utils.data.DataLoader, \n",
    "          test_dataloader: torch.utils.data.DataLoader, \n",
    "          optimizer: torch.optim.Optimizer,\n",
    "          loss_fn: torch.nn.Module,\n",
    "          epochs: int,\n",
    "          device: torch.device) -> Dict[str, List[float]]:\n",
    "    \"\"\"Trains and tests a PyTorch model.\n",
    "\n",
    "    Passes a target PyTorch models through train_step() and test_step()\n",
    "    functions for a number of epochs, training and testing the model\n",
    "    in the same epoch loop.\n",
    "\n",
    "    Calculates, prints and stores evaluation metrics throughout.\n",
    "\n",
    "    Args:\n",
    "    model: A PyTorch model to be trained and tested.\n",
    "    train_dataloader: A DataLoader instance for the model to be trained on.\n",
    "    test_dataloader: A DataLoader instance for the model to be tested on.\n",
    "    optimizer: A PyTorch optimizer to help minimize the loss function.\n",
    "    loss_fn: A PyTorch loss function to calculate loss on both datasets.\n",
    "    epochs: An integer indicating how many epochs to train for.\n",
    "    device: A target device to compute on (e.g. \"cuda\" or \"cpu\").\n",
    "\n",
    "    Returns:\n",
    "    A dictionary of training and testing loss as well as training and\n",
    "    testing accuracy metrics. Each metric has a value in a list for \n",
    "    each epoch.\n",
    "    In the form: {train_loss: [...],\n",
    "                  train_acc: [...],\n",
    "                  test_loss: [...],\n",
    "                  test_acc: [...]} \n",
    "    For example if training for epochs=2: \n",
    "                 {train_loss: [2.0616, 1.0537],\n",
    "                  train_acc: [0.3945, 0.3945],\n",
    "                  test_loss: [1.2641, 1.5706],\n",
    "                  test_acc: [0.3400, 0.2973]} \n",
    "    \"\"\"\n",
    "    # Create empty results dictionary\n",
    "    results = {\"train_loss\": [],\n",
    "      \"train_acc\": [],\n",
    "      \"test_loss\": [],\n",
    "      \"test_acc\": []\n",
    "    }\n",
    "\n",
    "    # Loop through training and testing steps for a number of epochs\n",
    "    for epoch in tqdm(range(epochs)):\n",
    "        train_loss, train_acc = train_step(model=model,\n",
    "                                          dataloader=train_dataloader,\n",
    "                                          loss_fn=loss_fn,\n",
    "                                          optimizer=optimizer,\n",
    "                                          device=device)\n",
    "        test_loss, test_acc = test_step(model=model,\n",
    "          dataloader=test_dataloader,\n",
    "          loss_fn=loss_fn,\n",
    "          device=device)\n",
    "\n",
    "        # Print out what's happening\n",
    "        print(\n",
    "          f\"Epoch: {epoch+1} | \"\n",
    "          f\"train_loss: {train_loss:.4f} | \"\n",
    "          f\"train_acc: {train_acc:.4f} | \"\n",
    "          f\"test_loss: {test_loss:.4f} | \"\n",
    "          f\"test_acc: {test_acc:.4f}\"\n",
    "        )\n",
    "\n",
    "        # Update results dictionary\n",
    "        results[\"train_loss\"].append(train_loss)\n",
    "        results[\"train_acc\"].append(train_acc)\n",
    "        results[\"test_loss\"].append(test_loss)\n",
    "        results[\"test_acc\"].append(test_acc)\n",
    "\n",
    "    # Return the filled results at the end of the epochs\n",
    "    return results"
   ]
  },
  {
   "cell_type": "markdown",
   "id": "20d9c7d9",
   "metadata": {
    "papermill": {
     "duration": 0.014315,
     "end_time": "2023-05-20T14:55:34.106856",
     "exception": false,
     "start_time": "2023-05-20T14:55:34.092541",
     "status": "completed"
    },
    "tags": []
   },
   "source": [
    "### 4_1. Create scripts for training"
   ]
  },
  {
   "cell_type": "code",
   "execution_count": 25,
   "id": "e77997a3",
   "metadata": {
    "execution": {
     "iopub.execute_input": "2023-05-20T14:55:34.139783Z",
     "iopub.status.busy": "2023-05-20T14:55:34.139408Z",
     "iopub.status.idle": "2023-05-20T14:55:34.151648Z",
     "shell.execute_reply": "2023-05-20T14:55:34.150324Z"
    },
    "papermill": {
     "duration": 0.032039,
     "end_time": "2023-05-20T14:55:34.154139",
     "exception": false,
     "start_time": "2023-05-20T14:55:34.122100",
     "status": "completed"
    },
    "tags": []
   },
   "outputs": [
    {
     "name": "stdout",
     "output_type": "stream",
     "text": [
      "Writing scripts/engine.py\n"
     ]
    }
   ],
   "source": [
    "%%writefile scripts/engine.py\n",
    "\"\"\"\n",
    "Contains functions for training and testing a PyTorch model.\n",
    "\"\"\"\n",
    "from typing import Dict, List, Tuple\n",
    "\n",
    "import torch\n",
    "\n",
    "from tqdm.auto import tqdm\n",
    "\n",
    "def train_step(model: torch.nn.Module, \n",
    "               dataloader: torch.utils.data.DataLoader, \n",
    "               loss_fn: torch.nn.Module, \n",
    "               optimizer: torch.optim.Optimizer,\n",
    "               device: torch.device) -> Tuple[float, float]:\n",
    "    \"\"\"Trains a PyTorch model for a single epoch.\n",
    "\n",
    "    Turns a target PyTorch model to training mode and then\n",
    "    runs through all of the required training steps (forward\n",
    "    pass, loss calculation, optimizer step).\n",
    "\n",
    "    Args:\n",
    "    model: A PyTorch model to be trained.\n",
    "    dataloader: A DataLoader instance for the model to be trained on.\n",
    "    loss_fn: A PyTorch loss function to minimize.\n",
    "    optimizer: A PyTorch optimizer to help minimize the loss function.\n",
    "    device: A target device to compute on (e.g. \"cuda\" or \"cpu\").\n",
    "\n",
    "    Returns:\n",
    "    A tuple of training loss and training accuracy metrics.\n",
    "    In the form (train_loss, train_accuracy). For example:\n",
    "\n",
    "    (0.1112, 0.8743)\n",
    "    \"\"\"\n",
    "    # Put model in train mode\n",
    "    model.train()\n",
    "\n",
    "    # Setup train loss and train accuracy values\n",
    "    train_loss, train_acc = 0, 0\n",
    "\n",
    "    # Loop through data loader data batches\n",
    "    for batch, (X, y) in enumerate(dataloader):\n",
    "        # Send data to target device\n",
    "        X, y = X.to(device), y.to(device)\n",
    "\n",
    "        # 1. Forward pass\n",
    "        y_pred = model(X)\n",
    "\n",
    "        # 2. Calculate  and accumulate loss\n",
    "        loss = loss_fn(y_pred, y)\n",
    "        train_loss += loss.item() \n",
    "\n",
    "        # 3. Optimizer zero grad\n",
    "        optimizer.zero_grad()\n",
    "\n",
    "        # 4. Loss backward\n",
    "        loss.backward()\n",
    "\n",
    "        # 5. Optimizer step\n",
    "        optimizer.step()\n",
    "\n",
    "        # Calculate and accumulate accuracy metric across all batches\n",
    "        y_pred_class = torch.argmax(torch.softmax(y_pred, dim=1), dim=1)\n",
    "        train_acc += (y_pred_class == y).sum().item()/len(y_pred)\n",
    "\n",
    "    # Adjust metrics to get average loss and accuracy per batch \n",
    "    train_loss = train_loss / len(dataloader)\n",
    "    train_acc = train_acc / len(dataloader)\n",
    "    return train_loss, train_acc\n",
    "\n",
    "def test_step(model: torch.nn.Module, \n",
    "              dataloader: torch.utils.data.DataLoader, \n",
    "              loss_fn: torch.nn.Module,\n",
    "              device: torch.device) -> Tuple[float, float]:\n",
    "    \"\"\"Tests a PyTorch model for a single epoch.\n",
    "\n",
    "    Turns a target PyTorch model to \"eval\" mode and then performs\n",
    "    a forward pass on a testing dataset.\n",
    "\n",
    "    Args:\n",
    "    model: A PyTorch model to be tested.\n",
    "    dataloader: A DataLoader instance for the model to be tested on.\n",
    "    loss_fn: A PyTorch loss function to calculate loss on the test data.\n",
    "    device: A target device to compute on (e.g. \"cuda\" or \"cpu\").\n",
    "\n",
    "    Returns:\n",
    "    A tuple of testing loss and testing accuracy metrics.\n",
    "    In the form (test_loss, test_accuracy). For example:\n",
    "\n",
    "    (0.0223, 0.8985)\n",
    "    \"\"\"\n",
    "    # Put model in eval mode\n",
    "    model.eval() \n",
    "\n",
    "    # Setup test loss and test accuracy values\n",
    "    test_loss, test_acc = 0, 0\n",
    "\n",
    "    # Turn on inference context manager\n",
    "    with torch.inference_mode():\n",
    "        # Loop through DataLoader batches\n",
    "        for batch, (X, y) in enumerate(dataloader):\n",
    "            # Send data to target device\n",
    "            X, y = X.to(device), y.to(device)\n",
    "\n",
    "            # 1. Forward pass\n",
    "            test_pred_logits = model(X)\n",
    "\n",
    "            # 2. Calculate and accumulate loss\n",
    "            loss = loss_fn(test_pred_logits, y)\n",
    "            test_loss += loss.item()\n",
    "\n",
    "            # Calculate and accumulate accuracy\n",
    "            test_pred_labels = test_pred_logits.argmax(dim=1)\n",
    "            test_acc += ((test_pred_labels == y).sum().item()/len(test_pred_labels))\n",
    "\n",
    "    # Adjust metrics to get average loss and accuracy per batch \n",
    "    test_loss = test_loss / len(dataloader)\n",
    "    test_acc = test_acc / len(dataloader)\n",
    "    return test_loss, test_acc\n",
    "\n",
    "def train(model: torch.nn.Module, \n",
    "          train_dataloader: torch.utils.data.DataLoader, \n",
    "          test_dataloader: torch.utils.data.DataLoader, \n",
    "          optimizer: torch.optim.Optimizer,\n",
    "          loss_fn: torch.nn.Module,\n",
    "          epochs: int,\n",
    "          device: torch.device) -> Dict[str, List[float]]:\n",
    "    \"\"\"Trains and tests a PyTorch model.\n",
    "\n",
    "    Passes a target PyTorch models through train_step() and test_step()\n",
    "    functions for a number of epochs, training and testing the model\n",
    "    in the same epoch loop.\n",
    "\n",
    "    Calculates, prints and stores evaluation metrics throughout.\n",
    "\n",
    "    Args:\n",
    "    model: A PyTorch model to be trained and tested.\n",
    "    train_dataloader: A DataLoader instance for the model to be trained on.\n",
    "    test_dataloader: A DataLoader instance for the model to be tested on.\n",
    "    optimizer: A PyTorch optimizer to help minimize the loss function.\n",
    "    loss_fn: A PyTorch loss function to calculate loss on both datasets.\n",
    "    epochs: An integer indicating how many epochs to train for.\n",
    "    device: A target device to compute on (e.g. \"cuda\" or \"cpu\").\n",
    "\n",
    "    Returns:\n",
    "    A dictionary of training and testing loss as well as training and\n",
    "    testing accuracy metrics. Each metric has a value in a list for \n",
    "    each epoch.\n",
    "    In the form: {train_loss: [...],\n",
    "              train_acc: [...],\n",
    "              test_loss: [...],\n",
    "              test_acc: [...]} \n",
    "    For example if training for epochs=2: \n",
    "             {train_loss: [2.0616, 1.0537],\n",
    "              train_acc: [0.3945, 0.3945],\n",
    "              test_loss: [1.2641, 1.5706],\n",
    "              test_acc: [0.3400, 0.2973]} \n",
    "    \"\"\"\n",
    "    # Create empty results dictionary\n",
    "    results = {\"train_loss\": [],\n",
    "               \"train_acc\": [],\n",
    "               \"test_loss\": [],\n",
    "               \"test_acc\": []\n",
    "    }\n",
    "    # Loop through training and testing steps for a number of epochs\n",
    "    for epoch in tqdm(range(epochs)):\n",
    "        train_loss, train_acc = train_step(model=model,\n",
    "                                          dataloader=train_dataloader,\n",
    "                                          loss_fn=loss_fn,\n",
    "                                          optimizer=optimizer,\n",
    "                                          device=device)\n",
    "        test_loss, test_acc = test_step(model=model,\n",
    "          dataloader=test_dataloader,\n",
    "          loss_fn=loss_fn,\n",
    "          device=device)\n",
    "\n",
    "        # Print out what's happening\n",
    "        print(\n",
    "          f\"Epoch: {epoch+1} | \"\n",
    "          f\"train_loss: {train_loss:.4f} | \"\n",
    "          f\"train_acc: {train_acc:.4f} | \"\n",
    "          f\"test_loss: {test_loss:.4f} | \"\n",
    "          f\"test_acc: {test_acc:.4f}\"\n",
    "        )\n",
    "\n",
    "        # Update results dictionary\n",
    "        results[\"train_loss\"].append(train_loss)\n",
    "        results[\"train_acc\"].append(train_acc)\n",
    "        results[\"test_loss\"].append(test_loss)\n",
    "        results[\"test_acc\"].append(test_acc)\n",
    "\n",
    "    # Return the filled results at the end of the epochs\n",
    "    return results"
   ]
  },
  {
   "cell_type": "markdown",
   "id": "de29ed4b",
   "metadata": {
    "papermill": {
     "duration": 0.014504,
     "end_time": "2023-05-20T14:55:34.184621",
     "exception": false,
     "start_time": "2023-05-20T14:55:34.170117",
     "status": "completed"
    },
    "tags": []
   },
   "source": [
    "### 5. Functions to save model"
   ]
  },
  {
   "cell_type": "code",
   "execution_count": 26,
   "id": "2f16e872",
   "metadata": {
    "execution": {
     "iopub.execute_input": "2023-05-20T14:55:34.217900Z",
     "iopub.status.busy": "2023-05-20T14:55:34.217365Z",
     "iopub.status.idle": "2023-05-20T14:55:34.224951Z",
     "shell.execute_reply": "2023-05-20T14:55:34.224135Z"
    },
    "papermill": {
     "duration": 0.026838,
     "end_time": "2023-05-20T14:55:34.226962",
     "exception": false,
     "start_time": "2023-05-20T14:55:34.200124",
     "status": "completed"
    },
    "tags": []
   },
   "outputs": [],
   "source": [
    "from pathlib import Path\n",
    "\n",
    "def save_model(model: torch.nn.Module,\n",
    "               target_dir: str,\n",
    "               model_name: str):\n",
    "    \"\"\"Saves a PyTorch model to a target directory.\n",
    "\n",
    "    Args:\n",
    "    model: A target PyTorch model to save.\n",
    "    target_dir: A directory for saving the model to.\n",
    "    model_name: A filename for the saved model. Should include\n",
    "      either \".pth\" or \".pt\" as the file extension.\n",
    "\n",
    "    Example usage:\n",
    "    save_model(model=model_0,\n",
    "               target_dir=\"models\",\n",
    "               model_name=\"05_going_modular_tingvgg_model.pth\")\n",
    "    \"\"\"\n",
    "    # Create target directory\n",
    "    target_dir_path = Path(target_dir)\n",
    "    target_dir_path.mkdir(parents=True,\n",
    "                        exist_ok=True)\n",
    "\n",
    "    # Create model save path\n",
    "    assert model_name.endswith(\".pth\") or model_name.endswith(\".pt\"), \"model_name should end with '.pt' or '.pth'\"\n",
    "    model_save_path = target_dir_path / model_name\n",
    "\n",
    "    # Save the model state_dict()\n",
    "    print(f\"[INFO] Saving model to: {model_save_path}\")\n",
    "    torch.save(obj=model.state_dict(),\n",
    "             f=model_save_path)"
   ]
  },
  {
   "cell_type": "markdown",
   "id": "462a37c6",
   "metadata": {
    "papermill": {
     "duration": 0.015097,
     "end_time": "2023-05-20T14:55:34.257636",
     "exception": false,
     "start_time": "2023-05-20T14:55:34.242539",
     "status": "completed"
    },
    "tags": []
   },
   "source": [
    "### 5_1. Script to save models"
   ]
  },
  {
   "cell_type": "code",
   "execution_count": 27,
   "id": "3e621348",
   "metadata": {
    "execution": {
     "iopub.execute_input": "2023-05-20T14:55:34.291248Z",
     "iopub.status.busy": "2023-05-20T14:55:34.290583Z",
     "iopub.status.idle": "2023-05-20T14:55:34.298145Z",
     "shell.execute_reply": "2023-05-20T14:55:34.296854Z"
    },
    "papermill": {
     "duration": 0.027094,
     "end_time": "2023-05-20T14:55:34.300662",
     "exception": false,
     "start_time": "2023-05-20T14:55:34.273568",
     "status": "completed"
    },
    "tags": []
   },
   "outputs": [
    {
     "name": "stdout",
     "output_type": "stream",
     "text": [
      "Writing scripts/utils.py\n"
     ]
    }
   ],
   "source": [
    "%%writefile scripts/utils.py\n",
    "\"\"\"\n",
    "Contains various utility functions for PyTorch model training and saving.\n",
    "\"\"\"\n",
    "from pathlib import Path\n",
    "\n",
    "import torch\n",
    "\n",
    "def save_model(model: torch.nn.Module,\n",
    "               target_dir: str,\n",
    "               model_name: str):\n",
    "    \"\"\"Saves a PyTorch model to a target directory.\n",
    "\n",
    "    Args:\n",
    "    model: A target PyTorch model to save.\n",
    "    target_dir: A directory for saving the model to.\n",
    "    model_name: A filename for the saved model. Should include\n",
    "      either \".pth\" or \".pt\" as the file extension.\n",
    "\n",
    "    Example usage:\n",
    "    save_model(model=model_0,\n",
    "               target_dir=\"models\",\n",
    "               model_name=\"05_going_modular_tingvgg_model.pth\")\n",
    "    \"\"\"\n",
    "    # Create target directory\n",
    "    target_dir_path = Path(target_dir)\n",
    "    target_dir_path.mkdir(parents=True,\n",
    "                        exist_ok=True)\n",
    "\n",
    "    # Create model save path\n",
    "    assert model_name.endswith(\".pth\") or model_name.endswith(\".pt\"), \"model_name should end with '.pt' or '.pth'\"\n",
    "    model_save_path = target_dir_path / model_name\n",
    "\n",
    "    # Save the model state_dict()\n",
    "    print(f\"[INFO] Saving model to: {model_save_path}\")\n",
    "    torch.save(obj=model.state_dict(),\n",
    "             f=model_save_path)"
   ]
  },
  {
   "cell_type": "code",
   "execution_count": 28,
   "id": "ce6e812f",
   "metadata": {
    "execution": {
     "iopub.execute_input": "2023-05-20T14:55:34.333839Z",
     "iopub.status.busy": "2023-05-20T14:55:34.333448Z",
     "iopub.status.idle": "2023-05-20T14:55:35.401576Z",
     "shell.execute_reply": "2023-05-20T14:55:35.400330Z"
    },
    "papermill": {
     "duration": 1.087762,
     "end_time": "2023-05-20T14:55:35.404133",
     "exception": false,
     "start_time": "2023-05-20T14:55:34.316371",
     "status": "completed"
    },
    "tags": []
   },
   "outputs": [],
   "source": [
    "mkdir models"
   ]
  },
  {
   "cell_type": "markdown",
   "id": "6b6db3a8",
   "metadata": {
    "papermill": {
     "duration": 0.015264,
     "end_time": "2023-05-20T14:55:35.435537",
     "exception": false,
     "start_time": "2023-05-20T14:55:35.420273",
     "status": "completed"
    },
    "tags": []
   },
   "source": [
    "### 6. Train, test and evaluate"
   ]
  },
  {
   "cell_type": "code",
   "execution_count": 29,
   "id": "d5146ea4",
   "metadata": {
    "execution": {
     "iopub.execute_input": "2023-05-20T14:55:35.469360Z",
     "iopub.status.busy": "2023-05-20T14:55:35.468563Z",
     "iopub.status.idle": "2023-05-20T14:55:47.358705Z",
     "shell.execute_reply": "2023-05-20T14:55:47.356709Z"
    },
    "papermill": {
     "duration": 11.912098,
     "end_time": "2023-05-20T14:55:47.363173",
     "exception": false,
     "start_time": "2023-05-20T14:55:35.451075",
     "status": "completed"
    },
    "tags": []
   },
   "outputs": [
    {
     "data": {
      "application/vnd.jupyter.widget-view+json": {
       "model_id": "2ddd6f35cec649bba442c8087091b5c9",
       "version_major": 2,
       "version_minor": 0
      },
      "text/plain": [
       "  0%|          | 0/5 [00:00<?, ?it/s]"
      ]
     },
     "metadata": {},
     "output_type": "display_data"
    },
    {
     "name": "stdout",
     "output_type": "stream",
     "text": [
      "Epoch: 1 | train_loss: 1.0922 | train_acc: 0.3911 | test_loss: 1.0727 | test_acc: 0.4133\n",
      "Epoch: 2 | train_loss: 1.0275 | train_acc: 0.5067 | test_loss: 1.0175 | test_acc: 0.4133\n",
      "Epoch: 3 | train_loss: 0.9638 | train_acc: 0.5111 | test_loss: 0.9916 | test_acc: 0.4667\n",
      "Epoch: 4 | train_loss: 0.9156 | train_acc: 0.5778 | test_loss: 0.9760 | test_acc: 0.4133\n",
      "Epoch: 5 | train_loss: 0.8874 | train_acc: 0.6089 | test_loss: 0.9821 | test_acc: 0.4800\n",
      "[INFO] Total training time: 11.870 seconds\n",
      "[INFO] Saving model to: models/05_going_modular_cell_mode_tinyvgg_model.pth\n"
     ]
    }
   ],
   "source": [
    "# Set random seeds\n",
    "torch.manual_seed(42) \n",
    "torch.cuda.manual_seed(42)\n",
    "\n",
    "# Set number of epochs\n",
    "NUM_EPOCHS = 5\n",
    "\n",
    "# Recreate an instance of TinyVGG\n",
    "model_0 = TinyVGG(input_shape=3, # number of color channels (3 for RGB) \n",
    "                  hidden_units=10, \n",
    "                  output_shape=len(train_data.classes)).to(device)\n",
    "\n",
    "# Setup loss function and optimizer\n",
    "loss_fn = nn.CrossEntropyLoss()\n",
    "optimizer = torch.optim.Adam(params=model_0.parameters(), lr=0.001)\n",
    "\n",
    "# Start the timer\n",
    "from timeit import default_timer as timer \n",
    "start_time = timer()\n",
    "\n",
    "# Train model_0 \n",
    "model_0_results = train(model=model_0, \n",
    "                        train_dataloader=train_dataloader,\n",
    "                        test_dataloader=test_dataloader,\n",
    "                        optimizer=optimizer,\n",
    "                        loss_fn=loss_fn, \n",
    "                        epochs=NUM_EPOCHS,\n",
    "                        device=device)\n",
    "\n",
    "# End the timer and print out how long it took\n",
    "end_time = timer()\n",
    "print(f\"[INFO] Total training time: {end_time-start_time:.3f} seconds\")\n",
    "\n",
    "# Save the model\n",
    "save_model(model=model_0,\n",
    "           target_dir=\"models\",\n",
    "           model_name=\"05_going_modular_cell_mode_tinyvgg_model.pth\")"
   ]
  },
  {
   "cell_type": "markdown",
   "id": "15a7446f",
   "metadata": {
    "papermill": {
     "duration": 0.016045,
     "end_time": "2023-05-20T14:55:47.396632",
     "exception": false,
     "start_time": "2023-05-20T14:55:47.380587",
     "status": "completed"
    },
    "tags": []
   },
   "source": [
    "### 6_1. Train, evaluate and save the model (script mode)"
   ]
  },
  {
   "cell_type": "code",
   "execution_count": 30,
   "id": "995fe9ce",
   "metadata": {
    "execution": {
     "iopub.execute_input": "2023-05-20T14:55:47.430850Z",
     "iopub.status.busy": "2023-05-20T14:55:47.430399Z",
     "iopub.status.idle": "2023-05-20T14:55:47.439522Z",
     "shell.execute_reply": "2023-05-20T14:55:47.438272Z"
    },
    "papermill": {
     "duration": 0.030515,
     "end_time": "2023-05-20T14:55:47.443244",
     "exception": false,
     "start_time": "2023-05-20T14:55:47.412729",
     "status": "completed"
    },
    "tags": []
   },
   "outputs": [
    {
     "name": "stdout",
     "output_type": "stream",
     "text": [
      "Writing scripts/train.py\n"
     ]
    }
   ],
   "source": [
    "%%writefile scripts/train.py\n",
    "\"\"\"\n",
    "Trains a PyTorch image classification model using device-agnostic code.\n",
    "\"\"\"\n",
    "\n",
    "import os\n",
    "\n",
    "import torch\n",
    "\n",
    "from torchvision import transforms\n",
    "\n",
    "import data_setup, engine, model_builder, utils\n",
    "\n",
    "\n",
    "# Setup hyperparameters\n",
    "NUM_EPOCHS = 5\n",
    "BATCH_SIZE = 32\n",
    "HIDDEN_UNITS = 10\n",
    "LEARNING_RATE = 0.001\n",
    "\n",
    "# Setup directories\n",
    "train_dir = \"data/pizza_steak_sushi/train\"\n",
    "test_dir = \"data/pizza_steak_sushi/test\"\n",
    "\n",
    "# Setup target device\n",
    "device = \"cuda\" if torch.cuda.is_available() else \"cpu\"\n",
    "\n",
    "# Create transforms\n",
    "data_transform = transforms.Compose([\n",
    "  transforms.Resize((64, 64)),\n",
    "  transforms.ToTensor()\n",
    "])\n",
    "\n",
    "# Create DataLoaders with help from data_setup.py\n",
    "train_dataloader, test_dataloader, class_names = data_setup.create_dataloaders(\n",
    "    train_dir=train_dir,\n",
    "    test_dir=test_dir,\n",
    "    transform=data_transform,\n",
    "    batch_size=BATCH_SIZE\n",
    ")\n",
    "\n",
    "# Create model with help from model_builder.py\n",
    "model = model_builder.TinyVGG(\n",
    "    input_shape=3,\n",
    "    hidden_units=HIDDEN_UNITS,\n",
    "    output_shape=len(class_names)\n",
    ").to(device)\n",
    "\n",
    "# Set loss and optimizer\n",
    "loss_fn = torch.nn.CrossEntropyLoss()\n",
    "optimizer = torch.optim.Adam(model.parameters(),\n",
    "                             lr=LEARNING_RATE)\n",
    "\n",
    "# Start training with help from engine.py\n",
    "engine.train(model=model,\n",
    "             train_dataloader=train_dataloader,\n",
    "             test_dataloader=test_dataloader,\n",
    "             loss_fn=loss_fn,\n",
    "             optimizer=optimizer,\n",
    "             epochs=NUM_EPOCHS,\n",
    "             device=device)\n",
    "\n",
    "# Save the model with help from utils.py\n",
    "utils.save_model(model=model,\n",
    "                 target_dir=\"models\",\n",
    "                 model_name=\"05_going_modular_script_mode_tinyvgg_model.pth\")"
   ]
  },
  {
   "cell_type": "code",
   "execution_count": 31,
   "id": "505bc897",
   "metadata": {
    "execution": {
     "iopub.execute_input": "2023-05-20T14:55:47.477369Z",
     "iopub.status.busy": "2023-05-20T14:55:47.477010Z",
     "iopub.status.idle": "2023-05-20T14:55:57.473577Z",
     "shell.execute_reply": "2023-05-20T14:55:57.472312Z"
    },
    "papermill": {
     "duration": 10.016877,
     "end_time": "2023-05-20T14:55:57.476438",
     "exception": false,
     "start_time": "2023-05-20T14:55:47.459561",
     "status": "completed"
    },
    "tags": []
   },
   "outputs": [
    {
     "name": "stdout",
     "output_type": "stream",
     "text": [
      "  0%|                                                     | 0/5 [00:00<?, ?it/s]Epoch: 1 | train_loss: 1.1032 | train_acc: 0.2852 | test_loss: 1.1121 | test_acc: 0.1979\r\n",
      " 20%|█████████                                    | 1/5 [00:01<00:04,  1.17s/it]Epoch: 2 | train_loss: 1.1040 | train_acc: 0.3047 | test_loss: 1.1094 | test_acc: 0.2604\r\n",
      " 40%|██████████████████                           | 2/5 [00:02<00:03,  1.19s/it]Epoch: 3 | train_loss: 1.0998 | train_acc: 0.3047 | test_loss: 1.0969 | test_acc: 0.2604\r\n",
      " 60%|███████████████████████████                  | 3/5 [00:03<00:02,  1.24s/it]Epoch: 4 | train_loss: 1.0926 | train_acc: 0.4258 | test_loss: 1.0874 | test_acc: 0.2604\r\n",
      " 80%|████████████████████████████████████         | 4/5 [00:04<00:01,  1.23s/it]Epoch: 5 | train_loss: 1.1090 | train_acc: 0.3047 | test_loss: 1.0882 | test_acc: 0.2604\r\n",
      "100%|█████████████████████████████████████████████| 5/5 [00:06<00:00,  1.22s/it]\r\n",
      "[INFO] Saving model to: models/05_going_modular_script_mode_tinyvgg_model.pth\r\n"
     ]
    }
   ],
   "source": [
    "!python scripts/train.py"
   ]
  },
  {
   "cell_type": "code",
   "execution_count": null,
   "id": "d68a2c21",
   "metadata": {
    "papermill": {
     "duration": 0.016561,
     "end_time": "2023-05-20T14:55:57.510275",
     "exception": false,
     "start_time": "2023-05-20T14:55:57.493714",
     "status": "completed"
    },
    "tags": []
   },
   "outputs": [],
   "source": []
  }
 ],
 "metadata": {
  "kernelspec": {
   "display_name": "Python 3",
   "language": "python",
   "name": "python3"
  },
  "language_info": {
   "codemirror_mode": {
    "name": "ipython",
    "version": 3
   },
   "file_extension": ".py",
   "mimetype": "text/x-python",
   "name": "python",
   "nbconvert_exporter": "python",
   "pygments_lexer": "ipython3",
   "version": "3.10.10"
  },
  "papermill": {
   "default_parameters": {},
   "duration": 44.22579,
   "end_time": "2023-05-20T14:55:59.055889",
   "environment_variables": {},
   "exception": null,
   "input_path": "__notebook__.ipynb",
   "output_path": "__notebook__.ipynb",
   "parameters": {},
   "start_time": "2023-05-20T14:55:14.830099",
   "version": "2.4.0"
  },
  "widgets": {
   "application/vnd.jupyter.widget-state+json": {
    "state": {
     "0d75259d86d14a78b5dca83ddf29a214": {
      "model_module": "@jupyter-widgets/base",
      "model_module_version": "1.2.0",
      "model_name": "LayoutModel",
      "state": {
       "_model_module": "@jupyter-widgets/base",
       "_model_module_version": "1.2.0",
       "_model_name": "LayoutModel",
       "_view_count": null,
       "_view_module": "@jupyter-widgets/base",
       "_view_module_version": "1.2.0",
       "_view_name": "LayoutView",
       "align_content": null,
       "align_items": null,
       "align_self": null,
       "border": null,
       "bottom": null,
       "display": null,
       "flex": null,
       "flex_flow": null,
       "grid_area": null,
       "grid_auto_columns": null,
       "grid_auto_flow": null,
       "grid_auto_rows": null,
       "grid_column": null,
       "grid_gap": null,
       "grid_row": null,
       "grid_template_areas": null,
       "grid_template_columns": null,
       "grid_template_rows": null,
       "height": null,
       "justify_content": null,
       "justify_items": null,
       "left": null,
       "margin": null,
       "max_height": null,
       "max_width": null,
       "min_height": null,
       "min_width": null,
       "object_fit": null,
       "object_position": null,
       "order": null,
       "overflow": null,
       "overflow_x": null,
       "overflow_y": null,
       "padding": null,
       "right": null,
       "top": null,
       "visibility": null,
       "width": null
      }
     },
     "190fa7ff102b41bab6868d115a089673": {
      "model_module": "@jupyter-widgets/controls",
      "model_module_version": "1.5.0",
      "model_name": "HTMLModel",
      "state": {
       "_dom_classes": [],
       "_model_module": "@jupyter-widgets/controls",
       "_model_module_version": "1.5.0",
       "_model_name": "HTMLModel",
       "_view_count": null,
       "_view_module": "@jupyter-widgets/controls",
       "_view_module_version": "1.5.0",
       "_view_name": "HTMLView",
       "description": "",
       "description_tooltip": null,
       "layout": "IPY_MODEL_e71a5114f44c4ce0a4249b9fd508278a",
       "placeholder": "​",
       "style": "IPY_MODEL_657385d769e54aee8c865ff1cda48ed2",
       "value": "100%"
      }
     },
     "24d153341cc841728c8b92f30c8f58e1": {
      "model_module": "@jupyter-widgets/controls",
      "model_module_version": "1.5.0",
      "model_name": "HTMLModel",
      "state": {
       "_dom_classes": [],
       "_model_module": "@jupyter-widgets/controls",
       "_model_module_version": "1.5.0",
       "_model_name": "HTMLModel",
       "_view_count": null,
       "_view_module": "@jupyter-widgets/controls",
       "_view_module_version": "1.5.0",
       "_view_name": "HTMLView",
       "description": "",
       "description_tooltip": null,
       "layout": "IPY_MODEL_0d75259d86d14a78b5dca83ddf29a214",
       "placeholder": "​",
       "style": "IPY_MODEL_d282fbc37e734432b1e697f7e09ba8ff",
       "value": " 5/5 [00:11&lt;00:00,  2.32s/it]"
      }
     },
     "2ddd6f35cec649bba442c8087091b5c9": {
      "model_module": "@jupyter-widgets/controls",
      "model_module_version": "1.5.0",
      "model_name": "HBoxModel",
      "state": {
       "_dom_classes": [],
       "_model_module": "@jupyter-widgets/controls",
       "_model_module_version": "1.5.0",
       "_model_name": "HBoxModel",
       "_view_count": null,
       "_view_module": "@jupyter-widgets/controls",
       "_view_module_version": "1.5.0",
       "_view_name": "HBoxView",
       "box_style": "",
       "children": [
        "IPY_MODEL_190fa7ff102b41bab6868d115a089673",
        "IPY_MODEL_d7ece7af8c7b4419a659ac701b737427",
        "IPY_MODEL_24d153341cc841728c8b92f30c8f58e1"
       ],
       "layout": "IPY_MODEL_ff31a35693b441929e992ea7bccb8799"
      }
     },
     "657385d769e54aee8c865ff1cda48ed2": {
      "model_module": "@jupyter-widgets/controls",
      "model_module_version": "1.5.0",
      "model_name": "DescriptionStyleModel",
      "state": {
       "_model_module": "@jupyter-widgets/controls",
       "_model_module_version": "1.5.0",
       "_model_name": "DescriptionStyleModel",
       "_view_count": null,
       "_view_module": "@jupyter-widgets/base",
       "_view_module_version": "1.2.0",
       "_view_name": "StyleView",
       "description_width": ""
      }
     },
     "6c5270e20521409cb8e9f4da91299e3b": {
      "model_module": "@jupyter-widgets/base",
      "model_module_version": "1.2.0",
      "model_name": "LayoutModel",
      "state": {
       "_model_module": "@jupyter-widgets/base",
       "_model_module_version": "1.2.0",
       "_model_name": "LayoutModel",
       "_view_count": null,
       "_view_module": "@jupyter-widgets/base",
       "_view_module_version": "1.2.0",
       "_view_name": "LayoutView",
       "align_content": null,
       "align_items": null,
       "align_self": null,
       "border": null,
       "bottom": null,
       "display": null,
       "flex": null,
       "flex_flow": null,
       "grid_area": null,
       "grid_auto_columns": null,
       "grid_auto_flow": null,
       "grid_auto_rows": null,
       "grid_column": null,
       "grid_gap": null,
       "grid_row": null,
       "grid_template_areas": null,
       "grid_template_columns": null,
       "grid_template_rows": null,
       "height": null,
       "justify_content": null,
       "justify_items": null,
       "left": null,
       "margin": null,
       "max_height": null,
       "max_width": null,
       "min_height": null,
       "min_width": null,
       "object_fit": null,
       "object_position": null,
       "order": null,
       "overflow": null,
       "overflow_x": null,
       "overflow_y": null,
       "padding": null,
       "right": null,
       "top": null,
       "visibility": null,
       "width": null
      }
     },
     "d282fbc37e734432b1e697f7e09ba8ff": {
      "model_module": "@jupyter-widgets/controls",
      "model_module_version": "1.5.0",
      "model_name": "DescriptionStyleModel",
      "state": {
       "_model_module": "@jupyter-widgets/controls",
       "_model_module_version": "1.5.0",
       "_model_name": "DescriptionStyleModel",
       "_view_count": null,
       "_view_module": "@jupyter-widgets/base",
       "_view_module_version": "1.2.0",
       "_view_name": "StyleView",
       "description_width": ""
      }
     },
     "d7ece7af8c7b4419a659ac701b737427": {
      "model_module": "@jupyter-widgets/controls",
      "model_module_version": "1.5.0",
      "model_name": "FloatProgressModel",
      "state": {
       "_dom_classes": [],
       "_model_module": "@jupyter-widgets/controls",
       "_model_module_version": "1.5.0",
       "_model_name": "FloatProgressModel",
       "_view_count": null,
       "_view_module": "@jupyter-widgets/controls",
       "_view_module_version": "1.5.0",
       "_view_name": "ProgressView",
       "bar_style": "success",
       "description": "",
       "description_tooltip": null,
       "layout": "IPY_MODEL_6c5270e20521409cb8e9f4da91299e3b",
       "max": 5.0,
       "min": 0.0,
       "orientation": "horizontal",
       "style": "IPY_MODEL_f2a6129d39a340f19cb01388879fc8e2",
       "value": 5.0
      }
     },
     "e71a5114f44c4ce0a4249b9fd508278a": {
      "model_module": "@jupyter-widgets/base",
      "model_module_version": "1.2.0",
      "model_name": "LayoutModel",
      "state": {
       "_model_module": "@jupyter-widgets/base",
       "_model_module_version": "1.2.0",
       "_model_name": "LayoutModel",
       "_view_count": null,
       "_view_module": "@jupyter-widgets/base",
       "_view_module_version": "1.2.0",
       "_view_name": "LayoutView",
       "align_content": null,
       "align_items": null,
       "align_self": null,
       "border": null,
       "bottom": null,
       "display": null,
       "flex": null,
       "flex_flow": null,
       "grid_area": null,
       "grid_auto_columns": null,
       "grid_auto_flow": null,
       "grid_auto_rows": null,
       "grid_column": null,
       "grid_gap": null,
       "grid_row": null,
       "grid_template_areas": null,
       "grid_template_columns": null,
       "grid_template_rows": null,
       "height": null,
       "justify_content": null,
       "justify_items": null,
       "left": null,
       "margin": null,
       "max_height": null,
       "max_width": null,
       "min_height": null,
       "min_width": null,
       "object_fit": null,
       "object_position": null,
       "order": null,
       "overflow": null,
       "overflow_x": null,
       "overflow_y": null,
       "padding": null,
       "right": null,
       "top": null,
       "visibility": null,
       "width": null
      }
     },
     "f2a6129d39a340f19cb01388879fc8e2": {
      "model_module": "@jupyter-widgets/controls",
      "model_module_version": "1.5.0",
      "model_name": "ProgressStyleModel",
      "state": {
       "_model_module": "@jupyter-widgets/controls",
       "_model_module_version": "1.5.0",
       "_model_name": "ProgressStyleModel",
       "_view_count": null,
       "_view_module": "@jupyter-widgets/base",
       "_view_module_version": "1.2.0",
       "_view_name": "StyleView",
       "bar_color": null,
       "description_width": ""
      }
     },
     "ff31a35693b441929e992ea7bccb8799": {
      "model_module": "@jupyter-widgets/base",
      "model_module_version": "1.2.0",
      "model_name": "LayoutModel",
      "state": {
       "_model_module": "@jupyter-widgets/base",
       "_model_module_version": "1.2.0",
       "_model_name": "LayoutModel",
       "_view_count": null,
       "_view_module": "@jupyter-widgets/base",
       "_view_module_version": "1.2.0",
       "_view_name": "LayoutView",
       "align_content": null,
       "align_items": null,
       "align_self": null,
       "border": null,
       "bottom": null,
       "display": null,
       "flex": null,
       "flex_flow": null,
       "grid_area": null,
       "grid_auto_columns": null,
       "grid_auto_flow": null,
       "grid_auto_rows": null,
       "grid_column": null,
       "grid_gap": null,
       "grid_row": null,
       "grid_template_areas": null,
       "grid_template_columns": null,
       "grid_template_rows": null,
       "height": null,
       "justify_content": null,
       "justify_items": null,
       "left": null,
       "margin": null,
       "max_height": null,
       "max_width": null,
       "min_height": null,
       "min_width": null,
       "object_fit": null,
       "object_position": null,
       "order": null,
       "overflow": null,
       "overflow_x": null,
       "overflow_y": null,
       "padding": null,
       "right": null,
       "top": null,
       "visibility": null,
       "width": null
      }
     }
    },
    "version_major": 2,
    "version_minor": 0
   }
  }
 },
 "nbformat": 4,
 "nbformat_minor": 5
}
